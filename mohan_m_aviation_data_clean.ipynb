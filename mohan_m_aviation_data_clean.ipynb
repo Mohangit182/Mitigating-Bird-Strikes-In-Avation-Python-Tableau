{
 "cells": [
  {
   "cell_type": "code",
   "execution_count": 1,
   "id": "f9d5a852-ffc1-433c-b5ab-2186115b0d0f",
   "metadata": {},
   "outputs": [],
   "source": [
    "import pandas as pd"
   ]
  },
  {
   "cell_type": "code",
   "execution_count": 2,
   "id": "7236998d-ad3d-4614-a390-762533d1306d",
   "metadata": {},
   "outputs": [],
   "source": [
    "df=pd.read_excel(\"C:\\\\Users\\\\Admin\\\\Downloads\\\\COURSE7 NIIT\\\\DS1_C7_S4_Project_BirdStrike_Data (1).xlsx\")"
   ]
  },
  {
   "cell_type": "code",
   "execution_count": 3,
   "id": "8bacee02-8b38-4b0a-b7eb-0d529b085b09",
   "metadata": {},
   "outputs": [
    {
     "data": {
      "text/html": [
       "<div>\n",
       "<style scoped>\n",
       "    .dataframe tbody tr th:only-of-type {\n",
       "        vertical-align: middle;\n",
       "    }\n",
       "\n",
       "    .dataframe tbody tr th {\n",
       "        vertical-align: top;\n",
       "    }\n",
       "\n",
       "    .dataframe thead th {\n",
       "        text-align: right;\n",
       "    }\n",
       "</style>\n",
       "<table border=\"1\" class=\"dataframe\">\n",
       "  <thead>\n",
       "    <tr style=\"text-align: right;\">\n",
       "      <th></th>\n",
       "      <th>Record ID</th>\n",
       "      <th>Aircraft: Type</th>\n",
       "      <th>Airport: Name</th>\n",
       "      <th>Altitude bin</th>\n",
       "      <th>Aircraft: Make/Model</th>\n",
       "      <th>Wildlife: Number struck</th>\n",
       "      <th>Wildlife: Number Struck Actual</th>\n",
       "      <th>Effect: Impact to flight</th>\n",
       "      <th>FlightDate</th>\n",
       "      <th>Effect: Indicated Damage</th>\n",
       "      <th>...</th>\n",
       "      <th>Remains of wildlife sent to Smithsonian</th>\n",
       "      <th>Remarks</th>\n",
       "      <th>Wildlife: Size</th>\n",
       "      <th>Conditions: Sky</th>\n",
       "      <th>Wildlife: Species</th>\n",
       "      <th>Pilot warned of birds or wildlife?</th>\n",
       "      <th>Cost: Total $</th>\n",
       "      <th>Feet above ground</th>\n",
       "      <th>Number of people injured</th>\n",
       "      <th>Is Aircraft Large?</th>\n",
       "    </tr>\n",
       "  </thead>\n",
       "  <tbody>\n",
       "    <tr>\n",
       "      <th>0</th>\n",
       "      <td>202152</td>\n",
       "      <td>Airplane</td>\n",
       "      <td>LAGUARDIA NY</td>\n",
       "      <td>&gt; 1000 ft</td>\n",
       "      <td>B-737-400</td>\n",
       "      <td>Over 100</td>\n",
       "      <td>859</td>\n",
       "      <td>Engine Shut Down</td>\n",
       "      <td>2000-11-23</td>\n",
       "      <td>Caused damage</td>\n",
       "      <td>...</td>\n",
       "      <td>False</td>\n",
       "      <td>FLT 753. PILOT REPTD A HUNDRED BIRDS ON UNKN T...</td>\n",
       "      <td>Medium</td>\n",
       "      <td>No Cloud</td>\n",
       "      <td>Unknown bird - medium</td>\n",
       "      <td>N</td>\n",
       "      <td>30736</td>\n",
       "      <td>1500.0</td>\n",
       "      <td>0</td>\n",
       "      <td>Yes</td>\n",
       "    </tr>\n",
       "    <tr>\n",
       "      <th>1</th>\n",
       "      <td>208159</td>\n",
       "      <td>Airplane</td>\n",
       "      <td>DALLAS/FORT WORTH INTL ARPT</td>\n",
       "      <td>&lt; 1000 ft</td>\n",
       "      <td>MD-80</td>\n",
       "      <td>Over 100</td>\n",
       "      <td>424</td>\n",
       "      <td>NaN</td>\n",
       "      <td>2001-07-25</td>\n",
       "      <td>Caused damage</td>\n",
       "      <td>...</td>\n",
       "      <td>False</td>\n",
       "      <td>102 CARCASSES FOUND. 1 LDG LIGHT ON NOSE GEAR ...</td>\n",
       "      <td>Small</td>\n",
       "      <td>Some Cloud</td>\n",
       "      <td>Rock pigeon</td>\n",
       "      <td>Y</td>\n",
       "      <td>0</td>\n",
       "      <td>0.0</td>\n",
       "      <td>0</td>\n",
       "      <td>No</td>\n",
       "    </tr>\n",
       "  </tbody>\n",
       "</table>\n",
       "<p>2 rows × 26 columns</p>\n",
       "</div>"
      ],
      "text/plain": [
       "   Record ID Aircraft: Type                Airport: Name Altitude bin  \\\n",
       "0     202152       Airplane                 LAGUARDIA NY    > 1000 ft   \n",
       "1     208159       Airplane  DALLAS/FORT WORTH INTL ARPT    < 1000 ft   \n",
       "\n",
       "  Aircraft: Make/Model Wildlife: Number struck  \\\n",
       "0            B-737-400                Over 100   \n",
       "1                MD-80                Over 100   \n",
       "\n",
       "   Wildlife: Number Struck Actual Effect: Impact to flight FlightDate  \\\n",
       "0                             859         Engine Shut Down 2000-11-23   \n",
       "1                             424                      NaN 2001-07-25   \n",
       "\n",
       "  Effect: Indicated Damage  ... Remains of wildlife sent to Smithsonian  \\\n",
       "0            Caused damage  ...                                   False   \n",
       "1            Caused damage  ...                                   False   \n",
       "\n",
       "                                             Remarks Wildlife: Size  \\\n",
       "0  FLT 753. PILOT REPTD A HUNDRED BIRDS ON UNKN T...         Medium   \n",
       "1  102 CARCASSES FOUND. 1 LDG LIGHT ON NOSE GEAR ...          Small   \n",
       "\n",
       "  Conditions: Sky      Wildlife: Species  Pilot warned of birds or wildlife?  \\\n",
       "0        No Cloud  Unknown bird - medium                                   N   \n",
       "1      Some Cloud            Rock pigeon                                   Y   \n",
       "\n",
       "   Cost: Total $ Feet above ground Number of people injured Is Aircraft Large?  \n",
       "0          30736            1500.0                        0                Yes  \n",
       "1              0               0.0                        0                 No  \n",
       "\n",
       "[2 rows x 26 columns]"
      ]
     },
     "execution_count": 3,
     "metadata": {},
     "output_type": "execute_result"
    }
   ],
   "source": [
    "df.head(2)"
   ]
  },
  {
   "cell_type": "code",
   "execution_count": 4,
   "id": "9f6b56ca-097e-4b8e-8eb0-3a6ea2ed8eea",
   "metadata": {},
   "outputs": [
    {
     "data": {
      "text/plain": [
       "Record ID                                      0\n",
       "Aircraft: Type                               129\n",
       "Airport: Name                                129\n",
       "Altitude bin                                 129\n",
       "Aircraft: Make/Model                           0\n",
       "Wildlife: Number struck                      129\n",
       "Wildlife: Number Struck Actual                 0\n",
       "Effect: Impact to flight                   23480\n",
       "FlightDate                                   129\n",
       "Effect: Indicated Damage                       0\n",
       "Aircraft: Number of engines?                 267\n",
       "Aircraft: Airline/Operator                   129\n",
       "Origin State                                 449\n",
       "When: Phase of flight                        129\n",
       "Conditions: Precipitation                  23543\n",
       "Remains of wildlife collected?                 0\n",
       "Remains of wildlife sent to Smithsonian        0\n",
       "Remarks                                     4771\n",
       "Wildlife: Size                               129\n",
       "Conditions: Sky                                0\n",
       "Wildlife: Species                              0\n",
       "Pilot warned of birds or wildlife?           129\n",
       "Cost: Total $                                  0\n",
       "Feet above ground                            129\n",
       "Number of people injured                       0\n",
       "Is Aircraft Large?                           129\n",
       "dtype: int64"
      ]
     },
     "execution_count": 4,
     "metadata": {},
     "output_type": "execute_result"
    }
   ],
   "source": [
    "df.isnull().sum()"
   ]
  },
  {
   "cell_type": "code",
   "execution_count": 5,
   "id": "6469dc28-932a-4d5d-8ce3-2da82c29065d",
   "metadata": {},
   "outputs": [
    {
     "data": {
      "text/plain": [
       "(25558, 26)"
      ]
     },
     "execution_count": 5,
     "metadata": {},
     "output_type": "execute_result"
    }
   ],
   "source": [
    "df.shape"
   ]
  },
  {
   "cell_type": "code",
   "execution_count": 6,
   "id": "ff309045-0802-46bc-bf34-1db7da30b257",
   "metadata": {},
   "outputs": [],
   "source": [
    "df_conti=df.select_dtypes(include=\"number\")"
   ]
  },
  {
   "cell_type": "code",
   "execution_count": 7,
   "id": "c4d86d19-82ef-49e5-85c6-a16b51f13d0c",
   "metadata": {},
   "outputs": [
    {
     "data": {
      "text/plain": [
       "Index(['Record ID', 'Wildlife: Number Struck Actual', 'Cost: Total $',\n",
       "       'Feet above ground', 'Number of people injured'],\n",
       "      dtype='object')"
      ]
     },
     "execution_count": 7,
     "metadata": {},
     "output_type": "execute_result"
    }
   ],
   "source": [
    "df_conti.columns"
   ]
  },
  {
   "cell_type": "code",
   "execution_count": 8,
   "id": "d0b5c340-30f7-4b2c-b2f1-4620a80ab871",
   "metadata": {},
   "outputs": [],
   "source": [
    "df_categ=df.select_dtypes(include=\"object\")"
   ]
  },
  {
   "cell_type": "code",
   "execution_count": 9,
   "id": "af1d1e48-a908-40f0-b295-4d894124e2cb",
   "metadata": {},
   "outputs": [
    {
     "data": {
      "text/plain": [
       "Record ID                                           int64\n",
       "Aircraft: Type                                     object\n",
       "Airport: Name                                      object\n",
       "Altitude bin                                       object\n",
       "Aircraft: Make/Model                               object\n",
       "Wildlife: Number struck                            object\n",
       "Wildlife: Number Struck Actual                      int64\n",
       "Effect: Impact to flight                           object\n",
       "FlightDate                                 datetime64[ns]\n",
       "Effect: Indicated Damage                           object\n",
       "Aircraft: Number of engines?                       object\n",
       "Aircraft: Airline/Operator                         object\n",
       "Origin State                                       object\n",
       "When: Phase of flight                              object\n",
       "Conditions: Precipitation                          object\n",
       "Remains of wildlife collected?                       bool\n",
       "Remains of wildlife sent to Smithsonian              bool\n",
       "Remarks                                            object\n",
       "Wildlife: Size                                     object\n",
       "Conditions: Sky                                    object\n",
       "Wildlife: Species                                  object\n",
       "Pilot warned of birds or wildlife?                 object\n",
       "Cost: Total $                                       int64\n",
       "Feet above ground                                 float64\n",
       "Number of people injured                            int64\n",
       "Is Aircraft Large?                                 object\n",
       "dtype: object"
      ]
     },
     "execution_count": 9,
     "metadata": {},
     "output_type": "execute_result"
    }
   ],
   "source": [
    "df.dtypes"
   ]
  },
  {
   "cell_type": "code",
   "execution_count": 10,
   "id": "573b7ef0-c9ea-4fa2-88c6-8789b6c5a941",
   "metadata": {},
   "outputs": [
    {
     "data": {
      "text/plain": [
       "Index(['Aircraft: Type', 'Airport: Name', 'Altitude bin',\n",
       "       'Aircraft: Make/Model', 'Wildlife: Number struck',\n",
       "       'Effect: Impact to flight', 'Effect: Indicated Damage',\n",
       "       'Aircraft: Number of engines?', 'Aircraft: Airline/Operator',\n",
       "       'Origin State', 'When: Phase of flight', 'Conditions: Precipitation',\n",
       "       'Remarks', 'Wildlife: Size', 'Conditions: Sky', 'Wildlife: Species',\n",
       "       'Pilot warned of birds or wildlife?', 'Is Aircraft Large?'],\n",
       "      dtype='object')"
      ]
     },
     "execution_count": 10,
     "metadata": {},
     "output_type": "execute_result"
    }
   ],
   "source": [
    "df_categ.columns"
   ]
  },
  {
   "cell_type": "code",
   "execution_count": 11,
   "id": "bf257fdf-5d6c-4d0d-aa86-d39cd4614560",
   "metadata": {},
   "outputs": [],
   "source": [
    "df_bool=df.select_dtypes(include=\"bool\")"
   ]
  },
  {
   "cell_type": "code",
   "execution_count": 12,
   "id": "00aac923-77e2-49c0-b155-53d747b1e958",
   "metadata": {},
   "outputs": [],
   "source": [
    "df[\"Effect: Impact to flight\"]=df[\"Effect: Impact to flight\"].fillna(\"Not Availabel\")"
   ]
  },
  {
   "cell_type": "code",
   "execution_count": 13,
   "id": "122f1a0c-9cf6-4aca-afc2-15d490df56fa",
   "metadata": {},
   "outputs": [],
   "source": [
    "df[\"Conditions: Precipitation\"]=df[\"Conditions: Precipitation\"].fillna(\"Not Availabel\")"
   ]
  },
  {
   "cell_type": "code",
   "execution_count": 14,
   "id": "bdd0280c-0386-44e8-b7a1-25c205108df5",
   "metadata": {},
   "outputs": [],
   "source": [
    "df[\"Aircraft: Number of engines?\"]=df[\"Aircraft: Number of engines?\"].fillna(\"Not Availabel\")"
   ]
  },
  {
   "cell_type": "code",
   "execution_count": 15,
   "id": "1f96791a-9254-4455-bd9e-23cad486c737",
   "metadata": {},
   "outputs": [],
   "source": [
    "df[\"Remarks\"]=df[\"Remarks\"].fillna(\"Not Availabel\")"
   ]
  },
  {
   "cell_type": "code",
   "execution_count": 16,
   "id": "70cb3e7f-2419-41d6-9da7-c123349a36de",
   "metadata": {},
   "outputs": [],
   "source": [
    "df[\"Origin State\"]=df[\"Origin State\"].fillna(\"Not Availabel\")"
   ]
  },
  {
   "cell_type": "code",
   "execution_count": 17,
   "id": "05eabf15-ee9a-416a-a2f5-69373eae4e4a",
   "metadata": {},
   "outputs": [],
   "source": [
    "df[\"FlightDate\"]=df[\"FlightDate\"].fillna(\"Not Availabel\")"
   ]
  },
  {
   "cell_type": "code",
   "execution_count": 20,
   "id": "7e9c3da1-bcda-4727-af2e-cdc3033c5358",
   "metadata": {},
   "outputs": [],
   "source": [
    "my_columns=[\"Aircraft: Type\",\"Airport: Name\",\"Wildlife: Number struck\",\"Altitude bin\",\"Aircraft: Airline/Operator\",\"When: Phase of flight\",\"Wildlife: Size\",\"Pilot warned of birds or wildlife?\",\"Feet above ground\",\"Is Aircraft Large?\"]"
   ]
  },
  {
   "cell_type": "code",
   "execution_count": 21,
   "id": "a227ec8f-908e-4dd6-8138-128520118156",
   "metadata": {},
   "outputs": [],
   "source": [
    "for i in my_columns:\n",
    "    df[i]=df[i].fillna(df[i].mode()[0])"
   ]
  },
  {
   "cell_type": "code",
   "execution_count": 22,
   "id": "79e04c00-10cf-4490-adf0-b5d9f420a828",
   "metadata": {},
   "outputs": [
    {
     "data": {
      "text/plain": [
       "Record ID                                  0\n",
       "Aircraft: Type                             0\n",
       "Airport: Name                              0\n",
       "Altitude bin                               0\n",
       "Aircraft: Make/Model                       0\n",
       "Wildlife: Number struck                    0\n",
       "Wildlife: Number Struck Actual             0\n",
       "Effect: Impact to flight                   0\n",
       "FlightDate                                 0\n",
       "Effect: Indicated Damage                   0\n",
       "Aircraft: Number of engines?               0\n",
       "Aircraft: Airline/Operator                 0\n",
       "Origin State                               0\n",
       "When: Phase of flight                      0\n",
       "Conditions: Precipitation                  0\n",
       "Remains of wildlife collected?             0\n",
       "Remains of wildlife sent to Smithsonian    0\n",
       "Remarks                                    0\n",
       "Wildlife: Size                             0\n",
       "Conditions: Sky                            0\n",
       "Wildlife: Species                          0\n",
       "Pilot warned of birds or wildlife?         0\n",
       "Cost: Total $                              0\n",
       "Feet above ground                          0\n",
       "Number of people injured                   0\n",
       "Is Aircraft Large?                         0\n",
       "dtype: int64"
      ]
     },
     "execution_count": 22,
     "metadata": {},
     "output_type": "execute_result"
    }
   ],
   "source": [
    "df.isnull().sum()"
   ]
  },
  {
   "cell_type": "code",
   "execution_count": 23,
   "id": "ebf2be32-362e-41fa-b167-32bc1988ea4c",
   "metadata": {},
   "outputs": [],
   "source": [
    "df.to_excel(\"c7_s4_bird_data.xlsx\",index=False)"
   ]
  },
  {
   "cell_type": "code",
   "execution_count": null,
   "id": "d356e035-d5ba-48b4-8f2d-bad0857df9c4",
   "metadata": {},
   "outputs": [],
   "source": []
  }
 ],
 "metadata": {
  "kernelspec": {
   "display_name": "Python 3 (ipykernel)",
   "language": "python",
   "name": "python3"
  },
  "language_info": {
   "codemirror_mode": {
    "name": "ipython",
    "version": 3
   },
   "file_extension": ".py",
   "mimetype": "text/x-python",
   "name": "python",
   "nbconvert_exporter": "python",
   "pygments_lexer": "ipython3",
   "version": "3.11.7"
  }
 },
 "nbformat": 4,
 "nbformat_minor": 5
}
